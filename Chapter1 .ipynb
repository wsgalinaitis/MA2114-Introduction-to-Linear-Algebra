{
 "cells": [
  {
   "cell_type": "markdown",
   "metadata": {},
   "source": [
    "# About this document\n",
    "\n",
    "This document was produced by a  **jupyter notebook**. It includes both the standard book material and the nonstandard Python code used to generate examples.\n"
   ]
  },
  {
   "cell_type": "markdown",
   "metadata": {},
   "source": [
    "# 1.1 Systems of linear Equations"
   ]
  },
  {
   "cell_type": "markdown",
   "metadata": {},
   "source": [
    "\n",
    "\n",
    "\n",
    "\n",
    "An **equation** defines a relationship between variables $x,y,t,...$ and a constant, $c$, $f(x,y)=c$\n",
    "\n",
    "For example: \n",
    "- $x=2$ is relates constant $2$ with \"a variable\" $x$\n",
    "- $y=x+2$ or $y-x=2$ relates the two variables $x$ and $y$ and the constant $2$.\n",
    "- $z = x^2 +y +2$, relates three variables $x$,$y$ and $z$ and the constant $2$.\n",
    "\n",
    "\n",
    "\n",
    "Equations are used to model physical processes, such as the motion of an object, electrical circuits\n",
    "\n",
    "Problem: A car is traveling in a straight line at a constant speed. \n",
    "\n",
    "- Write an equation relating the distance travelled $x$, the car's velocity $v$ and time $t$. \n",
    "    - $x = vt$"
   ]
  },
  {
   "cell_type": "markdown",
   "metadata": {},
   "source": [
    "A **linear equation** relating two variables: $2x-3y=4$ or $3y = 2x-4$ or $y = \\frac{2}{3} x - \\frac{4}{3}$"
   ]
  },
  {
   "cell_type": "markdown",
   "metadata": {},
   "source": [
    "You have seen this relation when you have plotted $y = \\frac{2}{3} x - \\frac{4}{3}$."
   ]
  },
  {
   "cell_type": "code",
   "execution_count": 11,
   "metadata": {},
   "outputs": [],
   "source": [
    "import matplotlib\n",
    "import numpy as np\n",
    "import matplotlib.pyplot as plt\n",
    "%matplotlib inline  "
   ]
  },
  {
   "cell_type": "markdown",
   "metadata": {},
   "source": [
    "A **linear equation** relating two variables: $2x-3y=4$ or $3y = 2x-4$ or $y = \\frac{2}{3} x - \\frac{4}{3}$"
   ]
  },
  {
   "cell_type": "code",
   "execution_count": 75,
   "metadata": {},
   "outputs": [
    {
     "data": {
      "text/plain": [
       "<matplotlib.text.Text at 0x7f879c81a908>"
      ]
     },
     "execution_count": 75,
     "metadata": {},
     "output_type": "execute_result"
    },
    {
     "data": {
      "image/png": "[encoded data removed]",
      "text/plain": [
       "<matplotlib.figure.Figure at 0x7f879cb00978>"
      ]
     },
     "metadata": {},
     "output_type": "display_data"
    }
   ],
   "source": [
    "delta = 1.0\n",
    "x = np.arange(-5.0, 5, delta)\n",
    "y = (2/3)*x-4/3\n",
    "plt.plot(x,y)\n",
    "plt.grid()\n",
    "plt.xlabel('x')\n",
    "plt.ylabel('y')\n"
   ]
  },
  {
   "cell_type": "markdown",
   "metadata": {},
   "source": [
    "# Solution(s) of a linear equation:\n",
    "\n",
    "A solution of an equation $f(x,y)=c$ ,with variables $x$ and $y$ and constant $c$, is the pair of numbers $(a,b)$ that satisfy the equation. \n",
    "\n",
    "A solution of the equation $x+y=1$ is the pair of values $(x=-1,y=2)$. \n",
    "\n",
    "Check: $-1+2 = 1$ which is true. So $(-1,2)$ is a solution.\n",
    "\n",
    "Of course any pair of values $(a,b)$ that satisfy the equation are solutions also. What are the other solutions? Look at the graph of $x+y=1$ below.\n",
    "\n"
   ]
  },
  {
   "cell_type": "code",
   "execution_count": 76,
   "metadata": {
    "collapsed": true
   },
   "outputs": [],
   "source": [
    "y=1-x #create y using the values of x\n"
   ]
  },
  {
   "cell_type": "code",
   "execution_count": 77,
   "metadata": {},
   "outputs": [
    {
     "data": {
      "text/plain": [
       "[<matplotlib.lines.Line2D at 0x7f879c781e10>]"
      ]
     },
     "execution_count": 77,
     "metadata": {},
     "output_type": "execute_result"
    },
    {
     "data": {
      "image/png": "[encoded data removed]",
      "text/plain": [
       "<matplotlib.figure.Figure at 0x7f879cad5f28>"
      ]
     },
     "metadata": {},
     "output_type": "display_data"
    }
   ],
   "source": [
    "plt.plot(x,y) # plot points (x,y)\n",
    "plt.grid() # grid added\n",
    "plt.plot(-1,2,'o') # plot point (-1,2)"
   ]
  },
  {
   "cell_type": "markdown",
   "metadata": {},
   "source": [
    "You see the solution $(-1,2)$ is a point on the line defined by $y=1-x$. To calculate the other solutions we can substitute values for $x$, such as $x=2$, and calculate $y$ using $y=1-x$. That is , for $x=2$, $y=1-2=-1$, the point $(2,-1)$ is a solution of the equation $x+y=1$."
   ]
  },
  {
   "cell_type": "markdown",
   "metadata": {},
   "source": [
    "# Equivalent equations\n",
    "\n",
    "To make this graph I generated a new equation $y = 1-x$ by subtracting $x$ from both sides of the original equation.\n",
    "$$ x+y =1 \\\\\n",
    "-x+x+y=1-x \\\\\n",
    "0+y=1-x \\\\\n",
    "y=1-x$$ \n",
    "\n",
    "Note: Algebra has proven that the above operations are valid and produces a sequence of equations that are equivalent to the original equation. \n",
    "\n",
    "Equivalent equations are equations that have the same solution(s). "
   ]
  },
  {
   "cell_type": "code",
   "execution_count": null,
   "metadata": {
    "collapsed": true
   },
   "outputs": [],
   "source": []
  }
 ],
 "metadata": {
  "kernelspec": {
   "display_name": "Python 3",
   "language": "python",
   "name": "python3"
  },
  "language_info": {
   "codemirror_mode": {
    "name": "ipython",
    "version": 3
   },
   "file_extension": ".py",
   "mimetype": "text/x-python",
   "name": "python",
   "nbconvert_exporter": "python",
   "pygments_lexer": "ipython3",
   "version": "3.6.1"
  }
 },
 "nbformat": 4,
 "nbformat_minor": 2
}
